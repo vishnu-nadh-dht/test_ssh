{
  "nbformat": 4,
  "nbformat_minor": 0,
  "metadata": {
    "colab": {
      "provenance": [],
      "private_outputs": true,
      "collapsed_sections": [],
      "mount_file_id": "15GKoVl8UXqVCjZz4K81sgZjXDlnZ1OVP",
      "authorship_tag": "ABX9TyPicQkoz0goEIe12WTJqGK6",
      "include_colab_link": true
    },
    "kernelspec": {
      "name": "python3",
      "display_name": "Python 3"
    },
    "language_info": {
      "name": "python"
    },
    "accelerator": "GPU",
    "gpuClass": "standard"
  },
  "cells": [
    {
      "cell_type": "markdown",
      "metadata": {
        "id": "view-in-github",
        "colab_type": "text"
      },
      "source": [
        "<a href=\"https://colab.research.google.com/github/vishnu-nadh-dht/test_ssh/blob/main/Detecto.ipynb\" target=\"_parent\"><img src=\"https://colab.research.google.com/assets/colab-badge.svg\" alt=\"Open In Colab\"/></a>"
      ]
    },
    {
      "cell_type": "code",
      "execution_count": null,
      "metadata": {
        "id": "-8Reiee58J8F"
      },
      "outputs": [],
      "source": [
        "!pip install detecto"
      ]
    },
    {
      "cell_type": "code",
      "source": [
        "import os"
      ],
      "metadata": {
        "id": "R1VrFXz3a1T_"
      },
      "execution_count": null,
      "outputs": []
    },
    {
      "cell_type": "code",
      "source": [
        "from detecto import core, utils, visualize\n",
        "\n",
        "dataset = core.Dataset('detecto_data/train')\n",
        "model = core.Model(['odometer'])\n",
        "\n",
        "model.fit(dataset)\n",
        "\n",
        "model.save('trained_model.pth')"
      ],
      "metadata": {
        "id": "qAjHsLP2HWca"
      },
      "execution_count": null,
      "outputs": []
    },
    {
      "cell_type": "code",
      "source": [
        "from detecto import core, utils, visualize\n",
        "\n",
        "model = core.Model.load('trained_model.pth', ['odometer'])\n",
        "image = utils.read_image('detecto_data/test/test2.jpg')\n",
        "predictions = model.predict(image)\n",
        "\n",
        "# predictions format: (labels, boxes, scores)\n",
        "labels, boxes, scores = predictions\n",
        "visualize.show_labeled_image(image, boxes, labels)"
      ],
      "metadata": {
        "id": "bRw1WFURhp0x"
      },
      "execution_count": null,
      "outputs": []
    }
  ]
}